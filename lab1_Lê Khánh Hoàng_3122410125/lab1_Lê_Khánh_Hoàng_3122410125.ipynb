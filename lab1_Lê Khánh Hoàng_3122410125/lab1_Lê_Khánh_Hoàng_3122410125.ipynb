{
  "cells": [
    {
      "cell_type": "markdown",
      "id": "0cfa247f-bf3f-4910-90dc-ae8ecb607964",
      "metadata": {
        "id": "0cfa247f-bf3f-4910-90dc-ae8ecb607964"
      },
      "source": [
        "# Buổi 4: Tìm kiếm trong không gian trạng thái"
      ]
    },
    {
      "cell_type": "markdown",
      "id": "48ace7ff-b7d1-4cf2-94da-a21d2d821112",
      "metadata": {
        "id": "48ace7ff-b7d1-4cf2-94da-a21d2d821112"
      },
      "source": [
        "### Bài 1. Biễu diễn đồ thị\n",
        "\n",
        "Cho đồ thị hàm số **G** (**V**, **E**) như bên dưới:\n",
        "\n",
        "![image](dothi.png)"
      ]
    },
    {
      "cell_type": "markdown",
      "id": "51164f9d-5d98-4361-b2c2-1fb23fd3704c",
      "metadata": {
        "id": "51164f9d-5d98-4361-b2c2-1fb23fd3704c"
      },
      "source": [
        "#### 1. Biễu diễn bằng danh sách / ma trận kề"
      ]
    },
    {
      "cell_type": "code",
      "execution_count": null,
      "id": "8715cbf5-d144-479d-9bb3-eb0be736fa12",
      "metadata": {
        "id": "8715cbf5-d144-479d-9bb3-eb0be736fa12"
      },
      "outputs": [],
      "source": [
        "# Danh sách đỉnh\n",
        "vertices = ['A','B','C','D','E','F','G','H','I','K']\n",
        "\n",
        "# Ma trận kề (theo Hình 1)\n",
        "adj_matrix = [\n",
        "    # A B C D E F G H I K\n",
        "    [0,0,1,1,1,1,0,0,0,0], # A\n",
        "    [0,0,0,0,0,0,0,0,0,0], # B\n",
        "    [0,0,0,0,0,0,0,1,0,0], # C\n",
        "    [0,0,0,0,1,0,0,1,0,0], # D\n",
        "    [0,0,0,0,0,0,0,0,1,1], # E\n",
        "    [0,0,0,0,0,0,1,0,1,0], # F\n",
        "    [0,0,0,0,0,0,0,0,0,0], # G\n",
        "    [0,0,0,0,0,0,0,0,0,1], # H\n",
        "    [0,1,0,0,0,0,0,0,0,1], # I\n",
        "    [0,1,0,0,0,0,0,0,0,0], # K\n",
        "]\n",
        "\n",
        "# Danh sách kề\n",
        "ADJ = {\n",
        "    'A': ['C','D','E','F'],\n",
        "    'B': [],\n",
        "    'C': ['H'],\n",
        "    'D': ['E','H'],\n",
        "    'E': ['I','K'],\n",
        "    'F': ['G','I'],\n",
        "    'G': [],\n",
        "    'H': ['K'],\n",
        "    'I': ['B','K'],\n",
        "    'K': ['B']\n",
        "}"
      ]
    },
    {
      "cell_type": "code",
      "execution_count": null,
      "id": "44f952fc-0188-4215-823b-6efb1ba5622a",
      "metadata": {
        "id": "44f952fc-0188-4215-823b-6efb1ba5622a",
        "outputId": "fb70a931-bf2b-46fd-cd61-7c39885e0f8a",
        "colab": {
          "base_uri": "https://localhost:8080/"
        }
      },
      "outputs": [
        {
          "output_type": "stream",
          "name": "stdout",
          "text": [
            "{'A': ['C', 'D', 'E', 'F'],\n",
            " 'B': [],\n",
            " 'C': ['H'],\n",
            " 'D': ['E', 'H'],\n",
            " 'E': ['I', 'K'],\n",
            " 'F': ['G', 'I'],\n",
            " 'G': [],\n",
            " 'H': ['K'],\n",
            " 'I': ['B', 'K'],\n",
            " 'K': ['B']}\n"
          ]
        }
      ],
      "source": [
        "import pprint\n",
        "pprint.pprint(ADJ)"
      ]
    },
    {
      "cell_type": "markdown",
      "id": "c975f35c-f742-4ac2-be01-1fe53c94eadf",
      "metadata": {
        "id": "c975f35c-f742-4ac2-be01-1fe53c94eadf"
      },
      "source": [
        "#### 2. Thao tác duyệt đồ thị\n",
        "(a) Liệt kê các đỉnh trong đồ thị <br/>\n",
        "(b) Liệt kê tất cả các cạnh đồ thị hiển thị dạng danh sách kề <br/>\n",
        "(c) Cho hai đỉnh A, B. Hỏi hai đỉnh A, B có kề nhau không? <br/>\n",
        "(d) Cho một đỉnh A. Hỏi danh sách các đỉnh kề với A <br/>"
      ]
    },
    {
      "cell_type": "code",
      "execution_count": null,
      "id": "d286c1a6-ef93-4581-9f7e-96ea10020985",
      "metadata": {
        "id": "d286c1a6-ef93-4581-9f7e-96ea10020985",
        "outputId": "b28df9bf-c755-4c4a-9f1e-f7024b6ce3a9",
        "colab": {
          "base_uri": "https://localhost:8080/"
        }
      },
      "outputs": [
        {
          "output_type": "stream",
          "name": "stdout",
          "text": [
            "2. Thao tác duyệt đồ thị\n"
          ]
        }
      ],
      "source": [
        "print(\"2. Thao tác duyệt đồ thị\")"
      ]
    },
    {
      "cell_type": "code",
      "execution_count": null,
      "id": "5faa6543-247a-4903-ba2a-9c1595af4f41",
      "metadata": {
        "id": "5faa6543-247a-4903-ba2a-9c1595af4f41",
        "outputId": "4d8f9fe7-22e9-44c1-c240-4a147d055feb",
        "colab": {
          "base_uri": "https://localhost:8080/"
        }
      },
      "outputs": [
        {
          "output_type": "stream",
          "name": "stdout",
          "text": [
            "(a) Liệt kê các đỉnh trong đồ thị\n",
            "Các đỉnh của đồ thị:  A B C D E F G H I K \n"
          ]
        }
      ],
      "source": [
        "print(\"(a) Liệt kê các đỉnh trong đồ thị\")\n",
        "print(\"Các đỉnh của đồ thị: \", end = \" \")\n",
        "# In lần lượt các đỉnh\n",
        "for v in ADJ.keys():\n",
        "    print(v, end=\" \")\n",
        "print()  # xuống dòng"
      ]
    },
    {
      "cell_type": "code",
      "execution_count": null,
      "id": "3df2151a-a327-4672-a7af-519084f4b044",
      "metadata": {
        "id": "3df2151a-a327-4672-a7af-519084f4b044",
        "outputId": "17c9ff41-9172-4333-d208-e05ee1849656",
        "colab": {
          "base_uri": "https://localhost:8080/"
        }
      },
      "outputs": [
        {
          "output_type": "stream",
          "name": "stdout",
          "text": [
            "(b) Liệt kê tất cả các cạnh đồ thị hiển thị dạng danh sách kề\n",
            "Danh sách kề của đồ thị: \n",
            "+ Đỉnh A: C, D, E, F\n",
            "+ Đỉnh B: \n",
            "+ Đỉnh C: H\n",
            "+ Đỉnh D: E, H\n",
            "+ Đỉnh E: I, K\n",
            "+ Đỉnh F: G, I\n",
            "+ Đỉnh G: \n",
            "+ Đỉnh H: K\n",
            "+ Đỉnh I: B, K\n",
            "+ Đỉnh K: B\n"
          ]
        }
      ],
      "source": [
        "print(\"(b) Liệt kê tất cả các cạnh đồ thị hiển thị dạng danh sách kề\")\n",
        "print(\"Danh sách kề của đồ thị: \")\n",
        "\n",
        "def HienThiDoThi(G):\n",
        "    for dinh, ke in G.items():\n",
        "        print(f\"+ Đỉnh {dinh}:\", end=\" \")\n",
        "        if len(ke) > 0:\n",
        "            print(\", \".join(ke))\n",
        "        else:\n",
        "            print()\n",
        "\n",
        "HienThiDoThi(ADJ)"
      ]
    },
    {
      "cell_type": "code",
      "execution_count": null,
      "id": "4077c30a-c7be-4a44-93de-9ed446a6a368",
      "metadata": {
        "id": "4077c30a-c7be-4a44-93de-9ed446a6a368",
        "outputId": "1f8c6106-d84d-4c95-e468-3a24ed3cd5b7",
        "colab": {
          "base_uri": "https://localhost:8080/"
        }
      },
      "outputs": [
        {
          "output_type": "stream",
          "name": "stdout",
          "text": [
            "(c) Cho hai đỉnh A, B. Hỏi hai đỉnh A, B có kề nhau không?\n"
          ]
        }
      ],
      "source": [
        "print(\"(c) Cho hai đỉnh A, B. Hỏi hai đỉnh A, B có kề nhau không?\")\n",
        "\n",
        "def LaKe(G, a, b):\n",
        "    \"\"\"\n",
        "    input: G, a, b\n",
        "    return:\n",
        "    + -1: đỉnh a, hay b không tồn tại\n",
        "    + 0: đỉnh a, b tồn tại và a không kề b\n",
        "    + 1: đỉnh a, b tồn tại và a, b kề nhau\n",
        "    \"\"\"\n",
        "    result = None\n",
        "\n",
        "    # CÁC BẠN LÀM BÀI Ở ĐÂY\n",
        "    if a not in G or b not in G:\n",
        "        result = -1\n",
        "    elif b in G[a]:\n",
        "        result = 1\n",
        "    else:\n",
        "        result = 0\n",
        "\n",
        "    return result"
      ]
    },
    {
      "cell_type": "code",
      "execution_count": null,
      "id": "0e90a761-8354-460a-a451-1cbb97b9b6b8",
      "metadata": {
        "id": "0e90a761-8354-460a-a451-1cbb97b9b6b8",
        "outputId": "963beaf5-5f3d-4045-c979-deb813e58a0e",
        "colab": {
          "base_uri": "https://localhost:8080/"
        }
      },
      "outputs": [
        {
          "output_type": "stream",
          "name": "stdout",
          "text": [
            "L ke R: -1\n",
            "A ke R: -1\n",
            "E ke D: 0\n",
            "D ke E: 1\n"
          ]
        }
      ],
      "source": [
        "a = \"L\"; b = \"R\"; print(f\"{a} ke {b}: {LaKe(ADJ, a, b)}\")\n",
        "a = \"A\"; b = \"R\"; print(f\"{a} ke {b}: {LaKe(ADJ, a, b)}\")\n",
        "a = \"E\"; b = \"D\"; print(f\"{a} ke {b}: {LaKe(ADJ, a, b)}\")\n",
        "a = \"D\"; b = \"E\"; print(f\"{a} ke {b}: {LaKe(ADJ, a, b)}\")"
      ]
    },
    {
      "cell_type": "code",
      "execution_count": null,
      "id": "41048b4b-9311-470f-9c0f-2bcb5b062587",
      "metadata": {
        "id": "41048b4b-9311-470f-9c0f-2bcb5b062587",
        "outputId": "8034b4b4-e8f0-4b57-d099-2eb83c9fae02",
        "colab": {
          "base_uri": "https://localhost:8080/"
        }
      },
      "outputs": [
        {
          "output_type": "stream",
          "name": "stdout",
          "text": [
            "(d) Cho một đỉnh A. Hỏi danh sách các đỉnh kề với A\n",
            "Danh sach ke voi dinh P: None\n",
            "Danh sach ke voi dinh A: ['C', 'D', 'E', 'F']\n",
            "Danh sach ke voi dinh B: []\n",
            "Danh sach ke voi dinh D: ['E', 'H']\n"
          ]
        }
      ],
      "source": [
        "print(\"(d) Cho một đỉnh A. Hỏi danh sách các đỉnh kề với A\")\n",
        "\n",
        "def LayKe(G, a):\n",
        "    \"\"\"\n",
        "    input: G, a\n",
        "    return:\n",
        "    + None: neu a khong ton tai\n",
        "    + []  : a khong ke voi bat ky dinh nao\n",
        "    + [x, y, ...]: mang cac dinh ke voi a\n",
        "    \"\"\"\n",
        "    result = None\n",
        "\n",
        "    # CÁC BẠN LÀM BÀI Ở ĐÂY\n",
        "    if a not in G:\n",
        "        result = None\n",
        "    else:\n",
        "        result = G[a]   # danh sách các đỉnh kề (có thể rỗng [])\n",
        "\n",
        "    return result\n",
        "\n",
        "a = \"P\"; print(f\"Danh sach ke voi dinh {a}: {LayKe(ADJ, a)}\")\n",
        "a = \"A\"; print(f\"Danh sach ke voi dinh {a}: {LayKe(ADJ, a)}\")\n",
        "a = \"B\"; print(f\"Danh sach ke voi dinh {a}: {LayKe(ADJ, a)}\")\n",
        "a = \"D\"; print(f\"Danh sach ke voi dinh {a}: {LayKe(ADJ, a)}\")"
      ]
    },
    {
      "cell_type": "markdown",
      "id": "465a8fdb-f10f-47a9-91ab-1b23598fda4f",
      "metadata": {
        "id": "465a8fdb-f10f-47a9-91ab-1b23598fda4f"
      },
      "source": [
        "#### 3. Đọc và lưu đồ thị\n",
        "**dske.txt**\n",
        "```\n",
        "10           # số đỉnh đồ thị\n",
        "A C E F D    # đỉnh A kề với C E F D\n",
        "B            # đỉnh B không kề với ai\n",
        "C H\n",
        "D E H\n",
        "E K I\n",
        "F I G\n",
        "G\n",
        "H K\n",
        "I K B\n",
        "K B\n",
        "```"
      ]
    },
    {
      "cell_type": "code",
      "execution_count": null,
      "id": "a71b385f-d571-4d94-88f1-427527c23653",
      "metadata": {
        "id": "a71b385f-d571-4d94-88f1-427527c23653",
        "outputId": "bac75221-c2e5-42d7-c75f-9f70fa998e42",
        "colab": {
          "base_uri": "https://localhost:8080/"
        }
      },
      "outputs": [
        {
          "output_type": "stream",
          "name": "stdout",
          "text": [
            "1. Lưu đồ thị xuống tập tin\n",
            "Luu do thi thanh cong xuong tap tin: dske1.txt\n",
            "10\n",
            "A C D E F\n",
            "B\n",
            "C H\n",
            "D E H\n",
            "E I K\n",
            "F G I\n",
            "G\n",
            "H K\n",
            "I B K\n",
            "K B\n"
          ]
        }
      ],
      "source": [
        "print(\"1. Lưu đồ thị xuống tập tin\")\n",
        "\n",
        "def LuuDoThi(G, file_path, verbose = True):\n",
        "    import os\n",
        "\n",
        "    \"\"\" CÁC BẠN LÀM BÀI Ở ĐÂY \"\"\"\n",
        "\n",
        "    # Tạo thư mục chứa file_path\n",
        "    file_dir = os.path.dirname(file_path)\n",
        "    if file_dir != \"\" and os.path.exists(file_path) == False:\n",
        "        os.makedirs(file_dir)\n",
        "        if verbose: print(f\"+ Tao thu muc: {file_dir}\")\n",
        "\n",
        "    # Lưu đồ thị\n",
        "    with open(file_path, \"wt\") as file:\n",
        "        # Ghi số đỉnh\n",
        "        file.write(str(len(G)) + \"\\n\")\n",
        "\n",
        "        # Ghi danh sách kề\n",
        "        for dinh, ke in G.items():\n",
        "            if len(ke) > 0:\n",
        "                line = dinh + \" \" + \" \".join(ke) + \"\\n\"\n",
        "            else:\n",
        "                line = dinh + \"\\n\"\n",
        "            file.write(line)\n",
        "        if verbose: print(f\"Luu do thi thanh cong xuong tap tin: {file_path}\")\n",
        "    pass\n",
        "\n",
        "LuuDoThi(ADJ, \"dske1.txt\", verbose = True)\n",
        "with open(\"dske1.txt\", \"rt\") as file:\n",
        "    lines = file.readlines()\n",
        "    for line in lines: print(line, end=\"\")"
      ]
    },
    {
      "cell_type": "code",
      "execution_count": null,
      "id": "b30921dc-fb94-44a5-907f-0d66340757a0",
      "metadata": {
        "id": "b30921dc-fb94-44a5-907f-0d66340757a0",
        "outputId": "5af6694f-19ec-4910-e506-4639fd55c459",
        "colab": {
          "base_uri": "https://localhost:8080/"
        }
      },
      "outputs": [
        {
          "output_type": "stream",
          "name": "stdout",
          "text": [
            "2. Đọc đồ thị từ tập tin\n",
            "{'A': {'E', 'F', 'C', 'D'},\n",
            " 'B': set(),\n",
            " 'C': {'H'},\n",
            " 'D': {'E', 'H'},\n",
            " 'E': {'I', 'K'},\n",
            " 'F': {'I', 'G'},\n",
            " 'G': set(),\n",
            " 'H': {'K'},\n",
            " 'I': {'B', 'K'},\n",
            " 'K': {'B'}}\n"
          ]
        }
      ],
      "source": [
        "print(\"2. Đọc đồ thị từ tập tin\")\n",
        "import pprint\n",
        "\n",
        "def DocDoThi(file_path, verbose = True):\n",
        "    \"\"\"\n",
        "    return:\n",
        "    + None: doc that bai\n",
        "    + <>None: tra ve do thi\n",
        "    \"\"\"\n",
        "    import os\n",
        "\n",
        "    result = None\n",
        "    if os.path.exists(file_path) == False:\n",
        "        result = None\n",
        "    else:\n",
        "        G = {}\n",
        "        with open(file_path, \"rt\") as file:\n",
        "            n = int(file.readline())\n",
        "            for line in file:\n",
        "                tokens = line.strip().split()\n",
        "                if len(tokens) > 0:\n",
        "                    dinh = tokens[0]\n",
        "                    ke = set(tokens[1:])\n",
        "                    G[dinh] = ke\n",
        "        result = G\n",
        "    return result\n",
        "\n",
        "G1 = DocDoThi(\"dske1.txt\", verbose = True)\n",
        "pprint.pprint(G1)"
      ]
    },
    {
      "cell_type": "markdown",
      "id": "8197f40f-69af-489d-80b5-124c91427db6",
      "metadata": {
        "id": "8197f40f-69af-489d-80b5-124c91427db6"
      },
      "source": [
        "### Bài 2. Tìm kiếm đường đi trên đồ thị"
      ]
    },
    {
      "cell_type": "markdown",
      "id": "43f12303-9ee9-4404-9ecb-f00a5f78e4ee",
      "metadata": {
        "id": "43f12303-9ee9-4404-9ecb-f00a5f78e4ee"
      },
      "source": [
        "#### 1. Tìm kiếm theo chiều rộng (BFS)"
      ]
    },
    {
      "cell_type": "code",
      "execution_count": null,
      "id": "1910f300-4094-4d69-b009-a9d4ea0fb27b",
      "metadata": {
        "id": "1910f300-4094-4d69-b009-a9d4ea0fb27b"
      },
      "outputs": [],
      "source": [
        "import pprint\n",
        "\n",
        "def BFS(G, start, goal):\n",
        "    \"\"\"\n",
        "    return:\n",
        "    + mang chua duong di tu a --> b, neu rong la ko co duong di\n",
        "    + None: dinh a, b khong hop le\n",
        "    \"\"\"\n",
        "    result = None\n",
        "\n",
        "    if G.get(start) is None or G.get(goal) is None:\n",
        "        result = None\n",
        "    else:\n",
        "        path = {}     # path[a]=b nghia la muon di toi dinh b phai qua a\n",
        "        s_open   = []\n",
        "        s_closed = []\n",
        "\n",
        "        # đưa start vào open\n",
        "        s_open.append(start)\n",
        "        path[start] = None\n",
        "        while len(s_open)>0:\n",
        "            # lấy đỉnh đầu trong open\n",
        "            u = s_open.pop(0)\n",
        "            s_closed.append(u)\n",
        "\n",
        "            # nếu tìm thấy goal thì dừng\n",
        "            if u == goal:\n",
        "                break\n",
        "\n",
        "            # duyệt các đỉnh kề\n",
        "            for v in G[u]:\n",
        "                if v not in s_closed and v not in s_open:\n",
        "                    s_open.append(v)\n",
        "                    path[v] = u\n",
        "\n",
        "        result = path\n",
        "    return result"
      ]
    },
    {
      "cell_type": "code",
      "execution_count": null,
      "id": "ed7e6ed1-ae75-4183-8cb2-0e4eae606144",
      "metadata": {
        "id": "ed7e6ed1-ae75-4183-8cb2-0e4eae606144",
        "outputId": "e9a1f49b-675b-4ce0-8fef-f2b55c9fcfbe",
        "colab": {
          "base_uri": "https://localhost:8080/"
        }
      },
      "outputs": [
        {
          "output_type": "stream",
          "name": "stdout",
          "text": [
            "{'A': None,\n",
            " 'B': 'I',\n",
            " 'C': 'A',\n",
            " 'D': 'A',\n",
            " 'E': 'A',\n",
            " 'F': 'A',\n",
            " 'G': 'F',\n",
            " 'H': 'C',\n",
            " 'I': 'E',\n",
            " 'K': 'E'}\n"
          ]
        }
      ],
      "source": [
        "path = BFS(ADJ, \"A\", \"B\")\n",
        "pprint.pprint(path)"
      ]
    },
    {
      "cell_type": "code",
      "execution_count": null,
      "id": "cd05574f-d2fa-4f71-80b2-1f9c5b45f945",
      "metadata": {
        "id": "cd05574f-d2fa-4f71-80b2-1f9c5b45f945"
      },
      "outputs": [],
      "source": [
        "def find_path(path, start, goal):\n",
        "    \"\"\"\n",
        "    Cho mang truy hoi duong, tim ds dinh tu start --> goal\n",
        "    \"\"\"\n",
        "    result = []\n",
        "\n",
        "    # bắt đầu từ goal, lần ngược về start\n",
        "    current = goal\n",
        "    while current is not None:\n",
        "        result.append(current)\n",
        "        current = path.get(current)\n",
        "\n",
        "    # đảo ngược để được start -> goal\n",
        "    result.reverse()\n",
        "\n",
        "    return result"
      ]
    },
    {
      "cell_type": "code",
      "execution_count": null,
      "id": "50a093aa-283b-4623-9428-a0631e37328b",
      "metadata": {
        "id": "50a093aa-283b-4623-9428-a0631e37328b",
        "outputId": "2df0ac1e-d051-4226-a4b8-b7791a81ab74",
        "colab": {
          "base_uri": "https://localhost:8080/"
        }
      },
      "outputs": [
        {
          "output_type": "execute_result",
          "data": {
            "text/plain": [
              "['A', 'E', 'I', 'B']"
            ]
          },
          "metadata": {},
          "execution_count": 23
        }
      ],
      "source": [
        "find_path(path, 'A', 'B')"
      ]
    },
    {
      "cell_type": "markdown",
      "id": "16085819-733d-4f95-a32d-aa52c5e35a6e",
      "metadata": {
        "id": "16085819-733d-4f95-a32d-aa52c5e35a6e"
      },
      "source": [
        "#### 2. Tìm kiếm theo chiều rộng (DFS)"
      ]
    },
    {
      "cell_type": "code",
      "execution_count": null,
      "id": "50ebc7cd-f093-4d06-852c-e6c903e27864",
      "metadata": {
        "id": "50ebc7cd-f093-4d06-852c-e6c903e27864"
      },
      "outputs": [],
      "source": [
        "import pprint\n",
        "\n",
        "def DFS(G, start, goal):\n",
        "    \"\"\"\n",
        "    return:\n",
        "    + mang chua duong di tu a --> b, neu rong la ko co duong di\n",
        "    + None: dinh a, b khong hop le\n",
        "    \"\"\"\n",
        "    result = None\n",
        "\n",
        "    if G.get(start) is None or G.get(goal) is None:\n",
        "        result = None\n",
        "    else:\n",
        "        path = {}     # path[a]=b nghia la muon di toi dinh b phai qua a\n",
        "        s_open   = []\n",
        "        s_closed = []\n",
        "\n",
        "        # đưa start vào open\n",
        "        s_open.append(start)\n",
        "        path[start] = None\n",
        "        while len(s_open)>0:\n",
        "            current = s_open.pop()   # lấy phần tử cuối (stack - DFS)\n",
        "\n",
        "            if current in s_closed:\n",
        "                continue\n",
        "\n",
        "            s_closed.append(current)\n",
        "\n",
        "            for neighbor in G[current]:\n",
        "                if neighbor not in path:   # chưa thăm\n",
        "                    path[neighbor] = current\n",
        "                    s_open.append(neighbor)\n",
        "\n",
        "    return path"
      ]
    },
    {
      "cell_type": "code",
      "execution_count": null,
      "id": "8177518a-8ffc-4a29-be9c-90375367793a",
      "metadata": {
        "id": "8177518a-8ffc-4a29-be9c-90375367793a",
        "outputId": "91689472-b71c-45b8-f997-09d5a02717a6",
        "colab": {
          "base_uri": "https://localhost:8080/"
        }
      },
      "outputs": [
        {
          "output_type": "stream",
          "name": "stdout",
          "text": [
            "{'A': None,\n",
            " 'B': 'I',\n",
            " 'C': 'A',\n",
            " 'D': 'A',\n",
            " 'E': 'A',\n",
            " 'F': 'A',\n",
            " 'G': 'F',\n",
            " 'H': 'D',\n",
            " 'I': 'F',\n",
            " 'K': 'I'}\n"
          ]
        }
      ],
      "source": [
        "path = DFS(ADJ, \"A\", \"B\")\n",
        "pprint.pprint(path)"
      ]
    },
    {
      "cell_type": "markdown",
      "id": "d037e84a-1f8c-4388-89f6-9b1e105140da",
      "metadata": {
        "id": "d037e84a-1f8c-4388-89f6-9b1e105140da"
      },
      "source": [
        "# Kết thúc"
      ]
    }
  ],
  "metadata": {
    "kernelspec": {
      "display_name": "Python 3",
      "language": "python",
      "name": "python3"
    },
    "language_info": {
      "codemirror_mode": {
        "name": "ipython",
        "version": 3
      },
      "file_extension": ".py",
      "mimetype": "text/x-python",
      "name": "python",
      "nbconvert_exporter": "python",
      "pygments_lexer": "ipython3",
      "version": "3.8.8"
    },
    "colab": {
      "provenance": []
    }
  },
  "nbformat": 4,
  "nbformat_minor": 5
}